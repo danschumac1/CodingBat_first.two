{
 "cells": [
  {
   "cell_type": "markdown",
   "id": "a1d51995",
   "metadata": {},
   "source": [
    "# String-1 > first_two"
   ]
  },
  {
   "cell_type": "markdown",
   "id": "1aec4b85",
   "metadata": {},
   "source": [
    "Given a string, return the string made of its first two chars, so the String \"Hello\" yields \"He\". If the string is shorter than length 2, return whatever there is, so \"X\" yields \"X\", and the empty string \"\" yields the empty string \"\".\n",
    "\n",
    "\n",
    "first_two('Hello') → 'He'\n",
    "first_two('abcdefg') → 'ab'\n",
    "first_two('ab') → 'ab'"
   ]
  },
  {
   "cell_type": "code",
   "execution_count": 1,
   "id": "a596f7d6",
   "metadata": {},
   "outputs": [],
   "source": [
    "def first_two(str):\n",
    "  if len(str)<3:\n",
    "    return str\n",
    "  else:\n",
    "    return str[0:2]"
   ]
  }
 ],
 "metadata": {
  "kernelspec": {
   "display_name": "Python 3 (ipykernel)",
   "language": "python",
   "name": "python3"
  },
  "language_info": {
   "codemirror_mode": {
    "name": "ipython",
    "version": 3
   },
   "file_extension": ".py",
   "mimetype": "text/x-python",
   "name": "python",
   "nbconvert_exporter": "python",
   "pygments_lexer": "ipython3",
   "version": "3.9.12"
  }
 },
 "nbformat": 4,
 "nbformat_minor": 5
}
